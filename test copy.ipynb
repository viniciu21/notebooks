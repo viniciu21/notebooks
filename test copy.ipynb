{
 "cells": [
  {
   "cell_type": "code",
   "execution_count": 1,
   "metadata": {},
   "outputs": [],
   "source": [
    "import numpy as np\n",
    "import pandas as pd\n",
    "import os\n",
    "import matplotlib.pyplot as plt\n",
    "import tensorflow as tf\n",
    "\n",
    "from tensorflow.keras.utils import to_categorical\n",
    "from tensorflow.keras.preprocessing.image import load_img, img_to_array, ImageDataGenerator\n",
    "\n",
    "from sklearn.metrics import classification_report, log_loss, accuracy_score\n",
    "from sklearn.model_selection import train_test_split"
   ]
  },
  {
   "cell_type": "code",
   "execution_count": 2,
   "metadata": {},
   "outputs": [],
   "source": [
    "train_dir = \"../../../Documents/ASL_Dataset/Train\";\n",
    "test_dir = \"../../../Documents/ASL_Dataset/Test\";\n",
    "dirTesteReal = \"../../../Documents/ASL_Dataset/TesteReal\";"
   ]
  },
  {
   "cell_type": "code",
   "execution_count": 3,
   "metadata": {},
   "outputs": [
    {
     "name": "stdout",
     "output_type": "stream",
     "text": [
      "['A', 'B', 'C', 'D', 'E', 'F', 'G', 'H', 'I', 'J', 'K', 'L', 'M', 'N', 'Nothing', 'O', 'P', 'Q', 'R', 'S', 'Space', 'T', 'U', 'V', 'W', 'X', 'Y', 'Z']\n",
      "28\n"
     ]
    }
   ],
   "source": [
    "Name=[]\n",
    "for file in os.listdir(train_dir):\n",
    "    Name+=[file]\n",
    "print(Name)\n",
    "print(len(Name))"
   ]
  },
  {
   "cell_type": "code",
   "execution_count": 4,
   "metadata": {},
   "outputs": [],
   "source": [
    "N=[]\n",
    "for i in range(len(Name)):\n",
    "    N+=[i]\n",
    "    \n",
    "mapping=dict(zip(Name,N)) \n",
    "reverse_mapping=dict(zip(N,Name)) \n",
    "\n",
    "def mapper(value):\n",
    "    return reverse_mapping[value]"
   ]
  },
  {
   "cell_type": "code",
   "execution_count": 5,
   "metadata": {},
   "outputs": [],
   "source": [
    "dataset=[]\n",
    "count=0\n",
    "for file in os.listdir(train_dir):\n",
    "    path=os.path.join(train_dir,file)\n",
    "    for im in os.listdir(path):\n",
    "        image=load_img(os.path.join(path,im), grayscale=False, color_mode='rgb', target_size=(40,40))\n",
    "        image=img_to_array(image)\n",
    "        image=image/255.0\n",
    "        dataset+=[[image,count]]\n",
    "    count=count+1"
   ]
  },
  {
   "cell_type": "code",
   "execution_count": 6,
   "metadata": {},
   "outputs": [],
   "source": [
    "testset=[]\n",
    "count=0\n",
    "for file in os.listdir(test_dir):\n",
    "    path=os.path.join(test_dir,file)\n",
    "    for im in os.listdir(path):\n",
    "        image=load_img(os.path.join(path,im), grayscale=False, color_mode='rgb', target_size=(40,40))\n",
    "        image=img_to_array(image)\n",
    "        image=image/255.0\n",
    "        testset+=[[image,count]]\n",
    "    count=count+1"
   ]
  },
  {
   "cell_type": "code",
   "execution_count": 7,
   "metadata": {},
   "outputs": [],
   "source": [
    "data,labels0=zip(*dataset)\n",
    "test,testlabels0=zip(*testset)"
   ]
  },
  {
   "cell_type": "code",
   "execution_count": 8,
   "metadata": {},
   "outputs": [],
   "source": [
    "labels1=to_categorical(labels0)\n",
    "labels=np.array(labels1)"
   ]
  },
  {
   "cell_type": "code",
   "execution_count": 9,
   "metadata": {},
   "outputs": [],
   "source": [
    "data=np.array(data)\n",
    "test=np.array(test)"
   ]
  },
  {
   "cell_type": "code",
   "execution_count": 10,
   "metadata": {},
   "outputs": [],
   "source": [
    "trainx,testx,trainy,testy=train_test_split(data,labels,test_size=0.2,random_state=44)"
   ]
  },
  {
   "cell_type": "code",
   "execution_count": 11,
   "metadata": {},
   "outputs": [
    {
     "name": "stdout",
     "output_type": "stream",
     "text": [
      "(132536, 40, 40, 3)\n",
      "(33134, 40, 40, 3)\n",
      "(132536, 28)\n",
      "(33134, 28)\n"
     ]
    }
   ],
   "source": [
    "print(trainx.shape)\n",
    "print(testx.shape)\n",
    "print(trainy.shape)\n",
    "print(testy.shape)"
   ]
  },
  {
   "cell_type": "code",
   "execution_count": 12,
   "metadata": {},
   "outputs": [],
   "source": [
    "datagen = ImageDataGenerator(horizontal_flip=True,vertical_flip=True,rotation_range=20,zoom_range=0.2,\n",
    "                        width_shift_range=0.2,height_shift_range=0.2,shear_range=0.1,fill_mode=\"nearest\")"
   ]
  },
  {
   "cell_type": "code",
   "execution_count": 13,
   "metadata": {},
   "outputs": [],
   "source": [
    "# pretrained_model3 = tf.keras.applications.DenseNet201(input_shape=(40,40,3),include_top=False,weights='imagenet',pooling='avg')\n",
    "# pretrained_model3.trainable = False"
   ]
  },
  {
   "cell_type": "code",
   "execution_count": 14,
   "metadata": {},
   "outputs": [],
   "source": [
    "# inputs3 = pretrained_model3.input\n",
    "# x3 = tf.keras.layers.Dense(128, activation='relu')(pretrained_model3.output)\n",
    "# outputs3 = tf.keras.layers.Dense(28, activation='softmax')(x3)\n",
    "# model = tf.keras.Model(inputs=inputs3, outputs=outputs3)"
   ]
  },
  {
   "cell_type": "code",
   "execution_count": 15,
   "metadata": {},
   "outputs": [
    {
     "name": "stdout",
     "output_type": "stream",
     "text": [
      "Model: \"sequential\"\n",
      "_________________________________________________________________\n",
      " Layer (type)                Output Shape              Param #   \n",
      "=================================================================\n",
      " conv2d (Conv2D)             (None, 40, 40, 32)        2432      \n",
      "                                                                 \n",
      " max_pooling2d (MaxPooling2D  (None, 20, 20, 32)       0         \n",
      " )                                                               \n",
      "                                                                 \n",
      " dropout (Dropout)           (None, 20, 20, 32)        0         \n",
      "                                                                 \n",
      " flatten (Flatten)           (None, 12800)             0         \n",
      "                                                                 \n",
      " dense (Dense)               (None, 28)                358428    \n",
      "                                                                 \n",
      "=================================================================\n",
      "Total params: 360,860\n",
      "Trainable params: 360,860\n",
      "Non-trainable params: 0\n",
      "_________________________________________________________________\n"
     ]
    }
   ],
   "source": [
    "model = tf.keras.Sequential([\n",
    "    tf.keras.Input((40,40,3)),\n",
    "    tf.keras.layers.Conv2D(filters=32, kernel_size=(5,5), strides=(1,1), padding='same', activation='relu'),\n",
    "    tf.keras.layers.MaxPool2D(pool_size=(2,2)),\n",
    "    tf.keras.layers.Dropout(0.25),\n",
    "    tf.keras.layers.Flatten(),\n",
    "    tf.keras.layers.Dense(28, activation='softmax')\n",
    "])\n",
    "model.summary()"
   ]
  },
  {
   "cell_type": "code",
   "execution_count": 16,
   "metadata": {},
   "outputs": [],
   "source": [
    "model.compile(optimizer='adam',loss='categorical_crossentropy',metrics=['accuracy'])"
   ]
  },
  {
   "cell_type": "code",
   "execution_count": 17,
   "metadata": {},
   "outputs": [
    {
     "name": "stdout",
     "output_type": "stream",
     "text": [
      "Epoch 1/9\n",
      "1036/1036 [==============================] - 68s 64ms/step - loss: 1.9542 - accuracy: 0.3975 - val_loss: 0.9442 - val_accuracy: 0.7221\n",
      "Epoch 2/9\n",
      "1036/1036 [==============================] - 65s 63ms/step - loss: 1.1553 - accuracy: 0.6167 - val_loss: 0.5592 - val_accuracy: 0.8587\n",
      "Epoch 3/9\n",
      "1036/1036 [==============================] - 65s 63ms/step - loss: 0.9352 - accuracy: 0.6830 - val_loss: 0.4657 - val_accuracy: 0.8591\n",
      "Epoch 4/9\n",
      "1036/1036 [==============================] - 64s 62ms/step - loss: 0.8293 - accuracy: 0.7146 - val_loss: 0.3761 - val_accuracy: 0.9094\n",
      "Epoch 5/9\n",
      "1036/1036 [==============================] - 64s 62ms/step - loss: 0.7607 - accuracy: 0.7392 - val_loss: 0.3232 - val_accuracy: 0.9190\n",
      "Epoch 6/9\n",
      "1036/1036 [==============================] - 64s 62ms/step - loss: 0.7000 - accuracy: 0.7593 - val_loss: 0.3060 - val_accuracy: 0.9188\n",
      "Epoch 7/9\n",
      "1036/1036 [==============================] - 64s 62ms/step - loss: 0.6515 - accuracy: 0.7757 - val_loss: 0.2989 - val_accuracy: 0.9140\n",
      "Epoch 8/9\n",
      "1036/1036 [==============================] - 67s 65ms/step - loss: 0.6092 - accuracy: 0.7895 - val_loss: 0.2783 - val_accuracy: 0.9174\n",
      "Epoch 9/9\n",
      "1036/1036 [==============================] - 69s 66ms/step - loss: 0.5773 - accuracy: 0.8007 - val_loss: 0.2458 - val_accuracy: 0.9260\n"
     ]
    }
   ],
   "source": [
    "his=model.fit(datagen.flow(trainx,trainy,batch_size=128),validation_data=(testx,testy),epochs=9)"
   ]
  },
  {
   "cell_type": "code",
   "execution_count": 18,
   "metadata": {},
   "outputs": [
    {
     "name": "stdout",
     "output_type": "stream",
     "text": [
      "1036/1036 [==============================] - 3s 3ms/step\n",
      "              precision    recall  f1-score   support\n",
      "\n",
      "           0       0.99      0.93      0.96      1222\n",
      "           1       0.99      1.00      0.99      1201\n",
      "           2       1.00      0.94      0.97      1189\n",
      "           3       0.99      1.00      0.99      1200\n",
      "           4       0.97      0.96      0.97      1220\n",
      "           5       0.94      1.00      0.97      1199\n",
      "           6       1.00      0.78      0.88      1169\n",
      "           7       0.87      1.00      0.93      1167\n",
      "           8       0.94      0.90      0.92      1183\n",
      "           9       0.94      0.98      0.96      1216\n",
      "          10       0.91      0.97      0.94      1211\n",
      "          11       0.98      1.00      0.99      1155\n",
      "          12       0.90      0.95      0.92      1211\n",
      "          13       0.95      0.85      0.90      1257\n",
      "          14       1.00      1.00      1.00      1195\n",
      "          15       1.00      0.99      0.99      1156\n",
      "          16       0.99      1.00      0.99      1220\n",
      "          17       1.00      0.99      1.00      1165\n",
      "          18       0.78      0.88      0.83      1244\n",
      "          19       0.99      0.83      0.90      1224\n",
      "          20       0.99      1.00      0.99      1176\n",
      "          21       0.91      0.84      0.87      1109\n",
      "          22       0.94      0.58      0.72       894\n",
      "          23       0.85      0.46      0.60      1175\n",
      "          24       0.65      1.00      0.79      1216\n",
      "          25       0.84      1.00      0.91      1230\n",
      "          26       0.85      1.00      0.92      1131\n",
      "          27       0.98      1.00      0.99      1199\n",
      "\n",
      "    accuracy                           0.93     33134\n",
      "   macro avg       0.93      0.92      0.92     33134\n",
      "weighted avg       0.93      0.93      0.92     33134\n",
      "\n"
     ]
    }
   ],
   "source": [
    "y_pred=model.predict(testx)\n",
    "pred=np.argmax(y_pred,axis=1)\n",
    "ground = np.argmax(testy,axis=1)\n",
    "print(classification_report(ground,pred))"
   ]
  },
  {
   "cell_type": "code",
   "execution_count": 19,
   "metadata": {},
   "outputs": [
    {
     "data": {
      "image/png": "[encoded data removed]",
      "text/plain": [
       "<Figure size 640x480 with 1 Axes>"
      ]
     },
     "metadata": {},
     "output_type": "display_data"
    },
    {
     "data": {
      "text/plain": [
       "<Figure size 640x480 with 0 Axes>"
      ]
     },
     "metadata": {},
     "output_type": "display_data"
    }
   ],
   "source": [
    "get_acc = his.history['accuracy']\n",
    "value_acc = his.history['val_accuracy']\n",
    "get_loss = his.history['loss']\n",
    "validation_loss = his.history['val_loss']\n",
    "\n",
    "epochs = range(len(get_acc))\n",
    "plt.plot(epochs, get_acc, 'r', label='Accuracy of Training data')\n",
    "plt.plot(epochs, value_acc, 'b', label='Accuracy of Validation data')\n",
    "plt.title('Training vs validation accuracy')\n",
    "plt.legend(loc=0)\n",
    "plt.figure()\n",
    "plt.show()"
   ]
  },
  {
   "cell_type": "code",
   "execution_count": 20,
   "metadata": {},
   "outputs": [
    {
     "data": {
      "image/png": "[encoded data removed]",
      "text/plain": [
       "<Figure size 640x480 with 1 Axes>"
      ]
     },
     "metadata": {},
     "output_type": "display_data"
    },
    {
     "data": {
      "text/plain": [
       "<Figure size 640x480 with 0 Axes>"
      ]
     },
     "metadata": {},
     "output_type": "display_data"
    }
   ],
   "source": [
    "epochs = range(len(get_loss))\n",
    "plt.plot(epochs, get_loss, 'r', label='Loss of Training data')\n",
    "plt.plot(epochs, validation_loss, 'b', label='Loss of Validation data')\n",
    "plt.title('Training vs validation loss')\n",
    "plt.legend(loc=0)\n",
    "plt.figure()\n",
    "plt.show()"
   ]
  },
  {
   "cell_type": "code",
   "execution_count": 21,
   "metadata": {},
   "outputs": [],
   "source": [
    "diretorio = test_dir + \"/M/3001.jpg\"\n",
    "\n",
    "image=load_img(diretorio,target_size=(40,40))\n",
    "\n",
    "image=img_to_array(image) \n",
    "image=image/255.0\n",
    "prediction_image=np.array(image)\n",
    "prediction_image= np.expand_dims(image, axis=0)"
   ]
  },
  {
   "cell_type": "code",
   "execution_count": 22,
   "metadata": {},
   "outputs": [
    {
     "name": "stdout",
     "output_type": "stream",
     "text": [
      "1/1 [==============================] - 0s 13ms/step\n",
      "Prediction is M.\n"
     ]
    }
   ],
   "source": [
    "prediction=model.predict(prediction_image)\n",
    "value=np.argmax(prediction)\n",
    "move_name=mapper(value)\n",
    "print(\"Prediction is {}.\".format(move_name))"
   ]
  },
  {
   "cell_type": "code",
   "execution_count": 23,
   "metadata": {},
   "outputs": [
    {
     "name": "stdout",
     "output_type": "stream",
     "text": [
      "(112, 40, 40, 3)\n",
      "4/4 [==============================] - 0s 3ms/step\n",
      "(112, 28)\n"
     ]
    }
   ],
   "source": [
    "print(test.shape)\n",
    "pred2=model.predict(test)\n",
    "print(pred2.shape)\n",
    "\n",
    "PRED=[]\n",
    "for item in pred2:\n",
    "    value2=np.argmax(item)      \n",
    "    PRED+=[value2]"
   ]
  },
  {
   "cell_type": "code",
   "execution_count": 26,
   "metadata": {},
   "outputs": [
    {
     "name": "stdout",
     "output_type": "stream",
     "text": [
      "[0, 0, 0, 0, 1, 1, 1, 1, 5, 5, 5, 5, 3, 3, 3, 3, 4, 4, 4, 4, 5, 5, 5, 5, 6, 6, 6, 6, 7, 7, 7, 7, 8, 8, 8, 8, 9, 9, 9, 9, 10, 10, 10, 10, 11, 11, 11, 11, 12, 12, 12, 12, 12, 12, 12, 25, 14, 14, 14, 14, 15, 15, 15, 15, 16, 16, 16, 16, 17, 17, 17, 17, 18, 18, 18, 18, 19, 19, 19, 19, 20, 20, 20, 20, 21, 21, 21, 21, 25, 25, 25, 25, 23, 23, 23, 23, 24, 24, 24, 24, 25, 25, 25, 25, 26, 26, 26, 26, 27, 27, 27, 27]\n"
     ]
    }
   ],
   "source": [
    "print(PRED)"
   ]
  },
  {
   "cell_type": "code",
   "execution_count": null,
   "metadata": {},
   "outputs": [],
   "source": [
    "ANS=testlabels0"
   ]
  },
  {
   "cell_type": "code",
   "execution_count": 25,
   "metadata": {},
   "outputs": [
    {
     "name": "stdout",
     "output_type": "stream",
     "text": [
      "0.8928571428571429\n"
     ]
    }
   ],
   "source": [
    "accuracy=accuracy_score(ANS,PRED)\n",
    "print(accuracy)"
   ]
  },
  {
   "cell_type": "code",
   "execution_count": 32,
   "metadata": {},
   "outputs": [
    {
     "name": "stdout",
     "output_type": "stream",
     "text": [
      "4/4 [==============================] - 0s 3ms/step\n",
      "(112, 40, 3)\n",
      "[ 0  0  0  0  1  1  1  1  5  5  5  5  3  3  3  3  4  4  4  4  5  5  5  5\n",
      "  6  6  6  6  7  7  7  7  8  8  8  8  9  9  9  9 10 10 10 10 11 11 11 11\n",
      " 12 12 12 12 12 12 12 25 14 14 14 14 15 15 15 15 16 16 16 16 17 17 17 17\n",
      " 18 18 18 18 19 19 19 19 20 20 20 20 21 21 21 21 25 25 25 25 23 23 23 23\n",
      " 24 24 24 24 25 25 25 25 26 26 26 26 27 27 27 27]\n"
     ]
    }
   ],
   "source": [
    "from sklearn.metrics import confusion_matrix\n",
    "\n",
    "#Create confusion matrix and normalizes it over predicted (columns)\n",
    "pred3=model.predict(test)\n",
    "pred3= np.argmax(pred2, axis = 1)\n",
    "y_teste2 = np.argmax(test, axis=1)\n",
    "print(y_teste2.shape)\n",
    "print(pred3)\n",
    "#result = confusion_matrix(y_teste2, pred3 , normalize='pred')"
   ]
  }
 ],
 "metadata": {
  "kernelspec": {
   "display_name": "Python 3",
   "language": "python",
   "name": "python3"
  },
  "language_info": {
   "codemirror_mode": {
    "name": "ipython",
    "version": 3
   },
   "file_extension": ".py",
   "mimetype": "text/x-python",
   "name": "python",
   "nbconvert_exporter": "python",
   "pygments_lexer": "ipython3",
   "version": "3.11.3"
  },
  "orig_nbformat": 4
 },
 "nbformat": 4,
 "nbformat_minor": 2
}

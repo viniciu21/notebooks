{
 "cells": [
  {
   "cell_type": "code",
   "execution_count": 2,
   "metadata": {},
   "outputs": [],
   "source": [
    "import numpy as np\n",
    "import pandas as pd\n",
    "import os\n",
    "import matplotlib.pyplot as plt\n",
    "import tensorflow as tf\n",
    "\n",
    "from tensorflow.keras.utils import to_categorical\n",
    "from tensorflow.keras.preprocessing.image import load_img, img_to_array, ImageDataGenerator\n",
    "\n",
    "from sklearn.metrics import classification_report, log_loss, accuracy_score\n",
    "from sklearn.model_selection import train_test_split"
   ]
  },
  {
   "cell_type": "code",
   "execution_count": 3,
   "metadata": {},
   "outputs": [],
   "source": [
    "dirTrain = \"../../../Documents/ASL_Dataset/Train\";\n",
    "dirTeste = \"../../../Documents/ASL_Dataset/Test\";\n"
   ]
  },
  {
   "cell_type": "code",
   "execution_count": 4,
   "metadata": {},
   "outputs": [],
   "source": [
    "Name=[]\n",
    "for file in os.listdir(dirTrain):\n",
    "    Name+=[file]"
   ]
  },
  {
   "cell_type": "code",
   "execution_count": 5,
   "metadata": {},
   "outputs": [],
   "source": [
    "N=[]\n",
    "for i in range(len(Name)):\n",
    "    N+=[i]\n",
    "    \n",
    "mapping=dict(zip(Name,N)) \n",
    "reverse_mapping=dict(zip(N,Name)) \n",
    "\n",
    "def mapper(value):\n",
    "    return reverse_mapping[value]"
   ]
  },
  {
   "cell_type": "code",
   "execution_count": 6,
   "metadata": {},
   "outputs": [],
   "source": [
    "dataset=[]\n",
    "count=0\n",
    "for file in os.listdir(dirTrain):\n",
    "    path=os.path.join(dirTrain,file)\n",
    "    for im in os.listdir(path):\n",
    "        image=load_img(os.path.join(path,im), grayscale=False, color_mode='rgb', target_size=(32,32))\n",
    "        image=img_to_array(image)\n",
    "        image=image/255.0\n",
    "        dataset+=[[image,count]]\n",
    "    count=count+1\n"
   ]
  },
  {
   "cell_type": "code",
   "execution_count": null,
   "metadata": {},
   "outputs": [
    {
     "name": "stdout",
     "output_type": "stream",
     "text": [
      "[array([[[0.64705884, 0.67058825, 0.6627451 ],\n",
      "        [0.61960787, 0.6784314 , 0.65882355],\n",
      "        [0.6509804 , 0.6745098 , 0.6666667 ],\n",
      "        [0.65882355, 0.6666667 , 0.6627451 ],\n",
      "        [0.654902  , 0.6627451 , 0.6509804 ],\n",
      "        [0.5568628 , 0.3019608 , 0.2784314 ],\n",
      "        [0.46666667, 0.3137255 , 0.25490198],\n",
      "        [0.64705884, 0.64705884, 0.6       ],\n",
      "        [0.59607846, 0.6313726 , 0.5647059 ],\n",
      "        [0.60784316, 0.59607846, 0.56078434]],\n",
      "\n",
      "       [[0.6431373 , 0.67058825, 0.6431373 ],\n",
      "        [0.6666667 , 0.67058825, 0.6392157 ],\n",
      "        [0.6784314 , 0.6666667 , 0.6392157 ],\n",
      "        [0.6666667 , 0.67058825, 0.64705884],\n",
      "        [0.65882355, 0.6431373 , 0.6392157 ],\n",
      "        [0.3764706 , 0.19215687, 0.12941177],\n",
      "        [0.43529412, 0.22352941, 0.18431373],\n",
      "        [0.6392157 , 0.6039216 , 0.5764706 ],\n",
      "        [0.6156863 , 0.61960787, 0.5647059 ],\n",
      "        [0.59607846, 0.59607846, 0.54901963]],\n",
      "\n",
      "       [[0.654902  , 0.6627451 , 0.6509804 ],\n",
      "        [0.6627451 , 0.67058825, 0.6509804 ],\n",
      "        [0.6666667 , 0.6666667 , 0.63529414],\n",
      "        [0.65882355, 0.6627451 , 0.6392157 ],\n",
      "        [0.6431373 , 0.654902  , 0.61960787],\n",
      "        [0.37254903, 0.19607843, 0.10588235],\n",
      "        [0.45882353, 0.23529412, 0.12941177],\n",
      "        [0.5294118 , 0.2784314 , 0.18039216],\n",
      "        [0.63529414, 0.6039216 , 0.5529412 ],\n",
      "        [0.63529414, 0.6117647 , 0.5647059 ]],\n",
      "\n",
      "       [[0.61960787, 0.67058825, 0.63529414],\n",
      "        [0.654902  , 0.6509804 , 0.6313726 ],\n",
      "        [0.6666667 , 0.654902  , 0.61960787],\n",
      "        [0.654902  , 0.654902  , 0.6156863 ],\n",
      "        [0.65882355, 0.6392157 , 0.62352943],\n",
      "        [0.4627451 , 0.21568628, 0.14901961],\n",
      "        [0.29803923, 0.11372549, 0.08235294],\n",
      "        [0.5176471 , 0.25490198, 0.14117648],\n",
      "        [0.60784316, 0.60784316, 0.56078434],\n",
      "        [0.5803922 , 0.6117647 , 0.56078434]],\n",
      "\n",
      "       [[0.62352943, 0.65882355, 0.6392157 ],\n",
      "        [0.63529414, 0.64705884, 0.6117647 ],\n",
      "        [0.6509804 , 0.654902  , 0.6       ],\n",
      "        [0.6784314 , 0.6431373 , 0.62352943],\n",
      "        [0.627451  , 0.62352943, 0.60784316],\n",
      "        [0.5529412 , 0.29411766, 0.16078432],\n",
      "        [0.40784314, 0.16862746, 0.09411765],\n",
      "        [0.47843137, 0.1764706 , 0.09803922],\n",
      "        [0.5686275 , 0.6156863 , 0.56078434],\n",
      "        [0.5882353 , 0.6       , 0.5647059 ]],\n",
      "\n",
      "       [[0.6156863 , 0.6392157 , 0.62352943],\n",
      "        [0.627451  , 0.64705884, 0.61960787],\n",
      "        [0.63529414, 0.6431373 , 0.5921569 ],\n",
      "        [0.627451  , 0.6431373 , 0.5882353 ],\n",
      "        [0.59607846, 0.6117647 , 0.6156863 ],\n",
      "        [0.54901963, 0.24705882, 0.1764706 ],\n",
      "        [0.5411765 , 0.23137255, 0.16470589],\n",
      "        [0.49019608, 0.25490198, 0.16078432],\n",
      "        [0.52156866, 0.28235295, 0.16078432],\n",
      "        [0.5803922 , 0.5921569 , 0.5254902 ]],\n",
      "\n",
      "       [[0.62352943, 0.62352943, 0.6156863 ],\n",
      "        [0.6117647 , 0.61960787, 0.6       ],\n",
      "        [0.654902  , 0.63529414, 0.62352943],\n",
      "        [0.6156863 , 0.6039216 , 0.5686275 ],\n",
      "        [0.6       , 0.58431375, 0.54901963],\n",
      "        [0.38431373, 0.2       , 0.12941177],\n",
      "        [0.50980395, 0.2509804 , 0.14901961],\n",
      "        [0.50980395, 0.23529412, 0.13725491],\n",
      "        [0.49411765, 0.3019608 , 0.17254902],\n",
      "        [0.5686275 , 0.5568628 , 0.5294118 ]],\n",
      "\n",
      "       [[0.58431375, 0.60784316, 0.5921569 ],\n",
      "        [0.6       , 0.62352943, 0.58431375],\n",
      "        [0.6039216 , 0.60784316, 0.5882353 ],\n",
      "        [0.57254905, 0.59607846, 0.5568628 ],\n",
      "        [0.5294118 , 0.5647059 , 0.5529412 ],\n",
      "        [0.5176471 , 0.5372549 , 0.52156866],\n",
      "        [0.35686275, 0.18039216, 0.10588235],\n",
      "        [0.53333336, 0.23137255, 0.15294118],\n",
      "        [0.44705883, 0.27450982, 0.16862746],\n",
      "        [0.5137255 , 0.57254905, 0.56078434]],\n",
      "\n",
      "       [[0.5803922 , 0.5882353 , 0.5764706 ],\n",
      "        [0.5921569 , 0.60784316, 0.5529412 ],\n",
      "        [0.5921569 , 0.5803922 , 0.56078434],\n",
      "        [0.53333336, 0.57254905, 0.5686275 ],\n",
      "        [0.5372549 , 0.5411765 , 0.4862745 ],\n",
      "        [0.5058824 , 0.50980395, 0.5176471 ],\n",
      "        [0.25882354, 0.16862746, 0.10588235],\n",
      "        [0.33333334, 0.18431373, 0.14901961],\n",
      "        [0.47843137, 0.5372549 , 0.4627451 ],\n",
      "        [0.46666667, 0.54901963, 0.49019608]],\n",
      "\n",
      "       [[0.5411765 , 0.57254905, 0.5294118 ],\n",
      "        [0.5137255 , 0.58431375, 0.5372549 ],\n",
      "        [0.5647059 , 0.57254905, 0.5294118 ],\n",
      "        [0.5529412 , 0.54509807, 0.49803922],\n",
      "        [0.49411765, 0.52156866, 0.49411765],\n",
      "        [0.49019608, 0.49803922, 0.49411765],\n",
      "        [0.20784314, 0.14117648, 0.07058824],\n",
      "        [0.2901961 , 0.16078432, 0.08627451],\n",
      "        [0.44313726, 0.49019608, 0.4509804 ],\n",
      "        [0.42745098, 0.53333336, 0.5137255 ]]], dtype=float32), 1]\n"
     ]
    }
   ],
   "source": [
    "print(dataset[5996])\n",
    "    "
   ]
  },
  {
   "cell_type": "code",
   "execution_count": null,
   "metadata": {},
   "outputs": [],
   "source": [
    "testeset=[]\n",
    "count=0\n",
    "for file in os.listdir(dirTeste):\n",
    "    path=os.path.join(dirTeste,file)\n",
    "    for im in os.listdir(path):\n",
    "        image=load_img(os.path.join(path,im), grayscale=False, color_mode='rgb', target_size=(32,32))\n",
    "        image=img_to_array(image)\n",
    "        image=image/255.0\n",
    "        testeset+=[[image,count]]\n",
    "    count=count+1\n"
   ]
  },
  {
   "cell_type": "code",
   "execution_count": null,
   "metadata": {},
   "outputs": [],
   "source": [
    "print(testeset[100])"
   ]
  },
  {
   "cell_type": "code",
   "execution_count": null,
   "metadata": {},
   "outputs": [],
   "source": [
    "print(dataset[6000])"
   ]
  },
  {
   "cell_type": "code",
   "execution_count": null,
   "metadata": {},
   "outputs": [],
   "source": [
    "data, labels0 = zip(*dataset)\n",
    "teste, testlabels0 = zip(*testeset)"
   ]
  },
  {
   "cell_type": "code",
   "execution_count": null,
   "metadata": {},
   "outputs": [],
   "source": [
    "labels1 = to_categorical(labels0)\n",
    "labels=np.array(labels1)"
   ]
  },
  {
   "cell_type": "code",
   "execution_count": null,
   "metadata": {},
   "outputs": [
    {
     "name": "stdout",
     "output_type": "stream",
     "text": [
      "[0. 0. 0. 1. 0. 0. 0. 0. 0. 0. 0. 0. 0. 0. 0. 0. 0. 0. 0. 0. 0. 0. 0. 0.\n",
      " 0. 0. 0. 0.]\n"
     ]
    }
   ],
   "source": [
    "print(labels[17996])"
   ]
  },
  {
   "cell_type": "code",
   "execution_count": null,
   "metadata": {},
   "outputs": [],
   "source": [
    "data=np.array(data)\n",
    "test = np.array(teste)"
   ]
  },
  {
   "cell_type": "code",
   "execution_count": null,
   "metadata": {},
   "outputs": [
    {
     "name": "stdout",
     "output_type": "stream",
     "text": [
      "[[[0.6431373  0.6784314  0.6666667 ]\n",
      "  [0.63529414 0.6784314  0.6627451 ]\n",
      "  [0.61960787 0.6901961  0.6431373 ]\n",
      "  ...\n",
      "  [0.6        0.627451   0.59607846]\n",
      "  [0.6039216  0.6039216  0.5568628 ]\n",
      "  [0.5921569  0.6039216  0.5764706 ]]\n",
      "\n",
      " [[0.67058825 0.6745098  0.6509804 ]\n",
      "  [0.654902   0.6509804  0.67058825]\n",
      "  [0.6313726  0.6666667  0.64705884]\n",
      "  ...\n",
      "  [0.6117647  0.61960787 0.5764706 ]\n",
      "  [0.5686275  0.6117647  0.54509807]\n",
      "  [0.57254905 0.6117647  0.5764706 ]]\n",
      "\n",
      " [[0.6431373  0.67058825 0.6431373 ]\n",
      "  [0.654902   0.654902   0.654902  ]\n",
      "  [0.6117647  0.67058825 0.65882355]\n",
      "  ...\n",
      "  [0.60784316 0.6156863  0.56078434]\n",
      "  [0.6039216  0.59607846 0.54901963]\n",
      "  [0.5882353  0.6156863  0.54509807]]\n",
      "\n",
      " ...\n",
      "\n",
      " [[0.31764707 0.17254902 0.10980392]\n",
      "  [0.32156864 0.1882353  0.05098039]\n",
      "  [0.4        0.13333334 0.05098039]\n",
      "  ...\n",
      "  [0.49019608 0.5294118  0.49803922]\n",
      "  [0.47058824 0.5294118  0.5411765 ]\n",
      "  [0.47843137 0.5294118  0.5019608 ]]\n",
      "\n",
      " [[0.3019608  0.19607843 0.09019608]\n",
      "  [0.27058825 0.1764706  0.07450981]\n",
      "  [0.21960784 0.14901961 0.10196079]\n",
      "  ...\n",
      "  [0.48235294 0.5294118  0.52156866]\n",
      "  [0.45882353 0.54509807 0.53333336]\n",
      "  [0.42745098 0.53333336 0.5058824 ]]\n",
      "\n",
      " [[0.20784314 0.1764706  0.10196079]\n",
      "  [0.23137255 0.23921569 0.19607843]\n",
      "  [0.52156866 0.52156866 0.5294118 ]\n",
      "  ...\n",
      "  [0.49019608 0.5137255  0.5137255 ]\n",
      "  [0.45882353 0.5137255  0.5176471 ]\n",
      "  [0.46666667 0.5372549  0.49019608]]]\n"
     ]
    }
   ],
   "source": [
    "print(data[17996])"
   ]
  },
  {
   "cell_type": "code",
   "execution_count": null,
   "metadata": {},
   "outputs": [],
   "source": [
    "trainx, testx, trainy, testy = train_test_split(data, labels, test_size=0.5, random_state=44)"
   ]
  },
  {
   "cell_type": "code",
   "execution_count": null,
   "metadata": {},
   "outputs": [
    {
     "name": "stdout",
     "output_type": "stream",
     "text": [
      "[0. 0. 0. 0. 0. 0. 0. 0. 0. 0. 0. 0. 0. 0. 0. 0. 0. 0. 0. 0. 1. 0. 0. 0.\n",
      " 0. 0. 0. 0.]\n"
     ]
    }
   ],
   "source": [
    "print(testy[17996])\n",
    "# print(testx.shape)\n",
    "# print(trainy.shape)\n",
    "# print(testy.shape)\n",
    "# print(f'First elements of y_train: {trainy[:10].T}\\n')"
   ]
  },
  {
   "cell_type": "code",
   "execution_count": null,
   "metadata": {},
   "outputs": [],
   "source": [
    "print(trainx[0])"
   ]
  },
  {
   "cell_type": "code",
   "execution_count": null,
   "metadata": {},
   "outputs": [],
   "source": [
    "num_classes = 28\n",
    "input_shape = (30, 30, 3)"
   ]
  },
  {
   "cell_type": "code",
   "execution_count": null,
   "metadata": {},
   "outputs": [
    {
     "name": "stdout",
     "output_type": "stream",
     "text": [
      "Min-max values of X_train: (0.0, 1.0)\n",
      "\n"
     ]
    }
   ],
   "source": [
    "print(f'Min-max values of X_train: {np.min(trainx),np.max(trainx)}\\n')"
   ]
  },
  {
   "cell_type": "code",
   "execution_count": null,
   "metadata": {},
   "outputs": [
    {
     "name": "stdout",
     "output_type": "stream",
     "text": [
      "Model: \"sequential\"\n",
      "_________________________________________________________________\n",
      " Layer (type)                Output Shape              Param #   \n",
      "=================================================================\n",
      " conv2d (Conv2D)             (None, 30, 30, 128)       6272      \n",
      "                                                                 \n",
      " max_pooling2d (MaxPooling2D  (None, 15, 15, 128)      0         \n",
      " )                                                               \n",
      "                                                                 \n",
      " flatten (Flatten)           (None, 28800)             0         \n",
      "                                                                 \n",
      " dense (Dense)               (None, 28)                806428    \n",
      "                                                                 \n",
      "=================================================================\n",
      "Total params: 812,700\n",
      "Trainable params: 812,700\n",
      "Non-trainable params: 0\n",
      "_________________________________________________________________\n"
     ]
    }
   ],
   "source": [
    "model1 = tf.keras.Sequential([\n",
    "    tf.keras.Input(input_shape),\n",
    "    tf.keras.layers.Conv2D(filters=16, kernel_size=(5,5), strides=(1,1), padding='same', activation='relu'),\n",
    "    tf.keras.layers.MaxPool2D(pool_size=(2,2)),\n",
    "    tf.keras.layers.Dropout(0.25),\n",
    "    tf.keras.layers.Conv2D(filters=32, kernel_size=(5,5), strides=(1,1), padding='same', activation='relu'),\n",
    "    tf.keras.layers.MaxPool2D(pool_size=(2,2)),\n",
    "    tf.keras.layers.Dropout(0.25),\n",
    "    tf.keras.layers.Conv2D(filters=64, kernel_size=(5,5), strides=(1,1), padding='same', activation='relu'),\n",
    "    tf.keras.layers.MaxPool2D(pool_size=(2,2)),\n",
    "    tf.keras.layers.Dropout(0.25),\n",
    "    tf.keras.layers.Flatten(),\n",
    "    tf.keras.layers.Dense(128, activation='relu'),\n",
    "    tf.keras.layers.Dropout(0.25),\n",
    "    tf.keras.layers.Dense(num_classes, activation='softmax')\n",
    "])\n",
    "model1.summary()"
   ]
  },
  {
   "cell_type": "code",
   "execution_count": null,
   "metadata": {},
   "outputs": [],
   "source": [
    "batch_size = 128\n",
    "epochs = 30\n",
    "opt = tf.keras.optimizers.Adam(learning_rate=0.001,\n",
    "                            beta_1=0.9,\n",
    "                            beta_2=0.999,\n",
    "                            epsilon=1e-08,\n",
    "                            weight_decay=0.0)\n",
    "\n",
    "# compile model\n",
    "model1.compile(loss='categorical_crossentropy',\n",
    "               optimizer=opt,\n",
    "               metrics = ['accuracy'])\n",
    "\n"
   ]
  },
  {
   "cell_type": "code",
   "execution_count": null,
   "metadata": {},
   "outputs": [
    {
     "name": "stdout",
     "output_type": "stream",
     "text": [
      "Epoch 1/30\n",
      "648/648 [==============================] - 99s 150ms/step - loss: 0.8607 - accuracy: 0.7712 - val_loss: 0.2361 - val_accuracy: 0.9488\n",
      "Epoch 2/30\n",
      "648/648 [==============================] - 107s 166ms/step - loss: 0.1371 - accuracy: 0.9723 - val_loss: 0.0750 - val_accuracy: 0.9873\n",
      "Epoch 3/30\n",
      "648/648 [==============================] - 102s 158ms/step - loss: 0.0494 - accuracy: 0.9923 - val_loss: 0.0370 - val_accuracy: 0.9944\n",
      "Epoch 4/30\n",
      "648/648 [==============================] - 101s 156ms/step - loss: 0.0238 - accuracy: 0.9970 - val_loss: 0.0169 - val_accuracy: 0.9979\n",
      "Epoch 5/30\n",
      "648/648 [==============================] - 104s 161ms/step - loss: 0.0134 - accuracy: 0.9988 - val_loss: 0.0130 - val_accuracy: 0.9989\n",
      "Epoch 6/30\n",
      "648/648 [==============================] - 101s 156ms/step - loss: 0.0083 - accuracy: 0.9993 - val_loss: 0.0086 - val_accuracy: 0.9989\n",
      "Epoch 7/30\n",
      "648/648 [==============================] - 101s 157ms/step - loss: 0.0248 - accuracy: 0.9943 - val_loss: 0.0119 - val_accuracy: 0.9989\n",
      "Epoch 8/30\n",
      "648/648 [==============================] - 104s 161ms/step - loss: 0.0052 - accuracy: 0.9997 - val_loss: 0.0062 - val_accuracy: 0.9995\n",
      "Epoch 9/30\n",
      "648/648 [==============================] - 101s 156ms/step - loss: 0.0027 - accuracy: 0.9999 - val_loss: 0.0113 - val_accuracy: 0.9970\n",
      "Epoch 10/30\n",
      "648/648 [==============================] - 99s 153ms/step - loss: 0.0036 - accuracy: 0.9996 - val_loss: 0.0033 - val_accuracy: 0.9995\n",
      "Epoch 11/30\n",
      "648/648 [==============================] - 106s 164ms/step - loss: 0.0057 - accuracy: 0.9988 - val_loss: 0.0253 - val_accuracy: 0.9918\n",
      "Epoch 12/30\n",
      "648/648 [==============================] - 108s 167ms/step - loss: 0.0034 - accuracy: 0.9994 - val_loss: 0.0014 - val_accuracy: 0.9999\n",
      "Epoch 13/30\n",
      "648/648 [==============================] - 108s 166ms/step - loss: 7.3283e-04 - accuracy: 0.9999 - val_loss: 9.8874e-04 - val_accuracy: 0.9999\n",
      "Epoch 14/30\n",
      "648/648 [==============================] - 103s 159ms/step - loss: 0.0187 - accuracy: 0.9958 - val_loss: 0.0559 - val_accuracy: 0.9833\n",
      "Epoch 15/30\n",
      "648/648 [==============================] - 99s 154ms/step - loss: 0.0048 - accuracy: 0.9994 - val_loss: 0.0021 - val_accuracy: 0.9998\n",
      "Epoch 16/30\n",
      "648/648 [==============================] - 98s 151ms/step - loss: 8.8431e-04 - accuracy: 1.0000 - val_loss: 0.0012 - val_accuracy: 0.9999\n",
      "Epoch 17/30\n",
      "648/648 [==============================] - 98s 152ms/step - loss: 5.8603e-04 - accuracy: 1.0000 - val_loss: 0.0011 - val_accuracy: 0.9999\n",
      "Epoch 18/30\n",
      "648/648 [==============================] - 101s 155ms/step - loss: 4.1682e-04 - accuracy: 1.0000 - val_loss: 0.0012 - val_accuracy: 0.9999\n",
      "Epoch 19/30\n",
      "648/648 [==============================] - 100s 155ms/step - loss: 3.6450e-04 - accuracy: 1.0000 - val_loss: 6.7848e-04 - val_accuracy: 0.9999\n",
      "Epoch 20/30\n",
      "648/648 [==============================] - 102s 157ms/step - loss: 0.0079 - accuracy: 0.9976 - val_loss: 0.0253 - val_accuracy: 0.9914\n",
      "Epoch 21/30\n",
      "648/648 [==============================] - 102s 158ms/step - loss: 0.0014 - accuracy: 0.9998 - val_loss: 9.5358e-04 - val_accuracy: 0.9999\n",
      "Epoch 22/30\n",
      "648/648 [==============================] - 101s 156ms/step - loss: 2.6042e-04 - accuracy: 1.0000 - val_loss: 4.9434e-04 - val_accuracy: 1.0000\n",
      "Epoch 23/30\n",
      "648/648 [==============================] - 99s 153ms/step - loss: 1.7196e-04 - accuracy: 1.0000 - val_loss: 4.2188e-04 - val_accuracy: 1.0000\n",
      "Epoch 24/30\n",
      "648/648 [==============================] - 101s 156ms/step - loss: 1.2672e-04 - accuracy: 1.0000 - val_loss: 5.0698e-04 - val_accuracy: 1.0000\n",
      "Epoch 25/30\n",
      "648/648 [==============================] - 99s 152ms/step - loss: 1.0708e-04 - accuracy: 1.0000 - val_loss: 3.7570e-04 - val_accuracy: 1.0000\n",
      "Epoch 26/30\n",
      "648/648 [==============================] - 101s 155ms/step - loss: 0.0063 - accuracy: 0.9983 - val_loss: 0.1250 - val_accuracy: 0.9556\n",
      "Epoch 27/30\n",
      "648/648 [==============================] - 103s 159ms/step - loss: 0.0046 - accuracy: 0.9987 - val_loss: 8.5474e-04 - val_accuracy: 0.9999\n",
      "Epoch 28/30\n",
      "648/648 [==============================] - 99s 153ms/step - loss: 2.7458e-04 - accuracy: 1.0000 - val_loss: 5.9580e-04 - val_accuracy: 0.9999\n",
      "Epoch 29/30\n",
      "648/648 [==============================] - 100s 154ms/step - loss: 1.6949e-04 - accuracy: 1.0000 - val_loss: 5.0233e-04 - val_accuracy: 1.0000\n",
      "Epoch 30/30\n",
      "648/648 [==============================] - 98s 151ms/step - loss: 1.1905e-04 - accuracy: 1.0000 - val_loss: 3.7983e-04 - val_accuracy: 1.0000\n"
     ]
    }
   ],
   "source": [
    "# training\n",
    "history = model1.fit(\n",
    "    trainx,\n",
    "    trainy,\n",
    "    batch_size=batch_size,\n",
    "    epochs=epochs,\n",
    "    validation_data=(testx,testy)\n",
    ")\n"
   ]
  },
  {
   "cell_type": "code",
   "execution_count": null,
   "metadata": {},
   "outputs": [
    {
     "data": {
      "image/png": "[encoded data removed]",
      "text/plain": [
       "<Figure size 1500x800 with 2 Axes>"
      ]
     },
     "metadata": {},
     "output_type": "display_data"
    }
   ],
   "source": [
    "# verify training performance\n",
    "loss = history.history['loss']\n",
    "val_loss = history.history['val_loss']\n",
    "acc = history.history['accuracy']\n",
    "val_acc = history.history['val_accuracy']\n",
    "\n",
    "epochs_range = range(epochs)\n",
    "\n",
    "plt.figure(figsize=(15, 8))\n",
    "plt.subplot(2, 1, 1)\n",
    "plt.grid(True)\n",
    "plt.plot(epochs_range, acc, label='Training Accuracy')\n",
    "plt.plot(epochs_range, val_acc, label='Validation Accuracy')\n",
    "plt.legend(loc='lower right')\n",
    "plt.title('Training and Validation Accuracy')\n",
    "\n",
    "plt.subplot(2, 1, 2)\n",
    "plt.grid(True)\n",
    "plt.plot(epochs_range, loss, label='Training Loss')\n",
    "plt.plot(epochs_range, val_loss, label='Validation Loss')\n",
    "plt.legend(loc='upper right')\n",
    "plt.title('Training and Validation Loss')\n",
    "plt.show()\n"
   ]
  },
  {
   "cell_type": "code",
   "execution_count": null,
   "metadata": {},
   "outputs": [
    {
     "name": "stdout",
     "output_type": "stream",
     "text": [
      "Test loss: 0.0003798299585469067\n",
      "Test accuracy: 0.9999637603759766\n"
     ]
    }
   ],
   "source": [
    "score = model1.evaluate(testx, testy, verbose=0)\n",
    "print(\"Test loss:\", score[0])\n",
    "print(\"Test accuracy:\", score[1])"
   ]
  },
  {
   "cell_type": "code",
   "execution_count": null,
   "metadata": {},
   "outputs": [],
   "source": [
    "teste = model1.predict()\n"
   ]
  },
  {
   "cell_type": "code",
   "execution_count": null,
   "metadata": {},
   "outputs": [
    {
     "name": "stdout",
     "output_type": "stream",
     "text": [
      "(82835, 30, 30, 3)\n"
     ]
    }
   ],
   "source": [
    "print(testx.shape)"
   ]
  },
  {
   "cell_type": "code",
   "execution_count": null,
   "metadata": {},
   "outputs": [],
   "source": []
  }
 ],
 "metadata": {
  "kernelspec": {
   "display_name": "Python 3.11.3 64-bit",
   "language": "python",
   "name": "python3"
  },
  "language_info": {
   "codemirror_mode": {
    "name": "ipython",
    "version": 3
   },
   "file_extension": ".py",
   "mimetype": "text/x-python",
   "name": "python",
   "nbconvert_exporter": "python",
   "pygments_lexer": "ipython3",
   "version": "3.11.3"
  },
  "orig_nbformat": 4,
  "vscode": {
   "interpreter": {
    "hash": "433d0155a64c2f8038576ae0fc5b3224712d33a96ced943fed049c87cd6a2e2d"
   }
  }
 },
 "nbformat": 4,
 "nbformat_minor": 2
}

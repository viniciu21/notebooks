{
 "cells": [
  {
   "cell_type": "code",
   "execution_count": 55,
   "metadata": {},
   "outputs": [],
   "source": [
    "import numpy as np\n",
    "import pandas as pd\n",
    "import os\n",
    "import matplotlib.pyplot as plt\n",
    "import tensorflow as tf\n",
    "\n",
    "from tensorflow.keras.utils import to_categorical\n",
    "from tensorflow.keras.preprocessing.image import load_img, img_to_array, ImageDataGenerator\n",
    "\n",
    "from sklearn.metrics import classification_report, log_loss, accuracy_score\n",
    "from sklearn.model_selection import train_test_split"
   ]
  },
  {
   "cell_type": "code",
   "execution_count": 56,
   "metadata": {},
   "outputs": [],
   "source": [
    "dirTrain = \"../../../Documents/ASL_Dataset/Train\";\n",
    "dirTeste = \"../../../Documents/ASL_Dataset/Test\";\n",
    "dirTesteReal = \"../../../Documents/ASL_Dataset/TesteReal\";\n"
   ]
  },
  {
   "cell_type": "code",
   "execution_count": 57,
   "metadata": {},
   "outputs": [],
   "source": [
    "Name=[]\n",
    "for file in os.listdir(dirTrain):\n",
    "    Name+=[file]"
   ]
  },
  {
   "cell_type": "code",
   "execution_count": 58,
   "metadata": {},
   "outputs": [],
   "source": [
    "N=[]\n",
    "for i in range(len(Name)):\n",
    "    N+=[i]\n",
    "    \n",
    "mapping=dict(zip(Name,N)) \n",
    "reverse_mapping=dict(zip(N,Name)) \n",
    "\n",
    "def mapper(value):\n",
    "    return reverse_mapping[value]"
   ]
  },
  {
   "cell_type": "code",
   "execution_count": 59,
   "metadata": {},
   "outputs": [],
   "source": [
    "dataset=[]\n",
    "count=0\n",
    "for file in os.listdir(dirTrain):\n",
    "    path=os.path.join(dirTrain,file)\n",
    "    for im in os.listdir(path):\n",
    "        image=load_img(os.path.join(path,im), grayscale=False, color_mode='rgb', target_size=(32,32))\n",
    "        image=img_to_array(image)\n",
    "        image=image/255.0\n",
    "        dataset+=[[image,count]]\n",
    "    count=count+1\n"
   ]
  },
  {
   "cell_type": "code",
   "execution_count": 60,
   "metadata": {},
   "outputs": [
    {
     "name": "stdout",
     "output_type": "stream",
     "text": [
      "[array([[[0.6745098 , 0.6784314 , 0.65882355],\n",
      "        [0.6509804 , 0.67058825, 0.6431373 ],\n",
      "        [0.6509804 , 0.6784314 , 0.6509804 ],\n",
      "        ...,\n",
      "        [0.627451  , 0.6156863 , 0.5568628 ],\n",
      "        [0.61960787, 0.60784316, 0.5882353 ],\n",
      "        [0.60784316, 0.6       , 0.54901963]],\n",
      "\n",
      "       [[0.6627451 , 0.67058825, 0.65882355],\n",
      "        [0.63529414, 0.6666667 , 0.6745098 ],\n",
      "        [0.65882355, 0.6666667 , 0.6627451 ],\n",
      "        ...,\n",
      "        [0.61960787, 0.6117647 , 0.5529412 ],\n",
      "        [0.58431375, 0.59607846, 0.5529412 ],\n",
      "        [0.59607846, 0.6117647 , 0.5568628 ]],\n",
      "\n",
      "       [[0.6666667 , 0.6627451 , 0.654902  ],\n",
      "        [0.6313726 , 0.6627451 , 0.67058825],\n",
      "        [0.64705884, 0.6666667 , 0.6509804 ],\n",
      "        ...,\n",
      "        [0.654902  , 0.59607846, 0.5686275 ],\n",
      "        [0.62352943, 0.5921569 , 0.54901963],\n",
      "        [0.5882353 , 0.5882353 , 0.54901963]],\n",
      "\n",
      "       ...,\n",
      "\n",
      "       [[0.54901963, 0.5882353 , 0.5529412 ],\n",
      "        [0.54509807, 0.58431375, 0.5529412 ],\n",
      "        [0.5803922 , 0.5686275 , 0.53333336],\n",
      "        ...,\n",
      "        [0.50980395, 0.5137255 , 0.52156866],\n",
      "        [0.49411765, 0.5176471 , 0.5019608 ],\n",
      "        [0.4862745 , 0.5254902 , 0.49411765]],\n",
      "\n",
      "       [[0.5372549 , 0.5764706 , 0.5411765 ],\n",
      "        [0.5254902 , 0.5647059 , 0.5294118 ],\n",
      "        [0.54901963, 0.5921569 , 0.5372549 ],\n",
      "        ...,\n",
      "        [0.43529412, 0.50980395, 0.5019608 ],\n",
      "        [0.43137255, 0.53333336, 0.5294118 ],\n",
      "        [0.4509804 , 0.5137255 , 0.5137255 ]],\n",
      "\n",
      "       [[0.5647059 , 0.56078434, 0.54509807],\n",
      "        [0.54509807, 0.5764706 , 0.53333336],\n",
      "        [0.5294118 , 0.5647059 , 0.54509807],\n",
      "        ...,\n",
      "        [0.43529412, 0.5137255 , 0.47058824],\n",
      "        [0.47058824, 0.49803922, 0.52156866],\n",
      "        [0.4862745 , 0.5176471 , 0.46666667]]], dtype=float32), 1]\n"
     ]
    }
   ],
   "source": [
    "print(dataset[5996])\n",
    "    "
   ]
  },
  {
   "cell_type": "code",
   "execution_count": 61,
   "metadata": {},
   "outputs": [],
   "source": [
    "testeset=[]\n",
    "count=0\n",
    "for file in os.listdir(dirTeste):\n",
    "    path=os.path.join(dirTeste,file)\n",
    "    for im in os.listdir(path):\n",
    "        image=load_img(os.path.join(path,im), grayscale=False, color_mode='rgb', target_size=(32,32))\n",
    "        image=img_to_array(image)\n",
    "        image=image/255.0\n",
    "        testeset+=[[image,count]]\n",
    "    count=count+1\n"
   ]
  },
  {
   "cell_type": "code",
   "execution_count": 62,
   "metadata": {},
   "outputs": [
    {
     "name": "stdout",
     "output_type": "stream",
     "text": [
      "[array([[[0.61960787, 0.654902  , 0.6745098 ],\n",
      "        [0.6       , 0.6392157 , 0.6784314 ],\n",
      "        [0.5921569 , 0.6509804 , 0.67058825],\n",
      "        ...,\n",
      "        [0.57254905, 0.59607846, 0.5803922 ],\n",
      "        [0.59607846, 0.5803922 , 0.58431375],\n",
      "        [0.5686275 , 0.58431375, 0.5803922 ]],\n",
      "\n",
      "       [[0.59607846, 0.6509804 , 0.7019608 ],\n",
      "        [0.5921569 , 0.6627451 , 0.6784314 ],\n",
      "        [0.6117647 , 0.6392157 , 0.70980394],\n",
      "        ...,\n",
      "        [0.5803922 , 0.6039216 , 0.6039216 ],\n",
      "        [0.56078434, 0.60784316, 0.6       ],\n",
      "        [0.57254905, 0.59607846, 0.5568628 ]],\n",
      "\n",
      "       [[0.5803922 , 0.6392157 , 0.6509804 ],\n",
      "        [0.5764706 , 0.6431373 , 0.68235296],\n",
      "        [0.62352943, 0.63529414, 0.654902  ],\n",
      "        ...,\n",
      "        [0.5882353 , 0.5882353 , 0.5882353 ],\n",
      "        [0.5529412 , 0.5882353 , 0.58431375],\n",
      "        [0.5647059 , 0.5647059 , 0.57254905]],\n",
      "\n",
      "       ...,\n",
      "\n",
      "       [[0.47058824, 0.5254902 , 0.5372549 ],\n",
      "        [0.50980395, 0.5254902 , 0.5372549 ],\n",
      "        [0.5254902 , 0.50980395, 0.5686275 ],\n",
      "        ...,\n",
      "        [0.49803922, 0.49803922, 0.5372549 ],\n",
      "        [0.45490196, 0.5294118 , 0.52156866],\n",
      "        [0.44313726, 0.49019608, 0.5372549 ]],\n",
      "\n",
      "       [[0.4745098 , 0.5176471 , 0.53333336],\n",
      "        [0.4745098 , 0.5254902 , 0.56078434],\n",
      "        [0.4862745 , 0.5372549 , 0.5686275 ],\n",
      "        ...,\n",
      "        [0.4745098 , 0.50980395, 0.5294118 ],\n",
      "        [0.40784314, 0.4862745 , 0.5137255 ],\n",
      "        [0.4392157 , 0.4862745 , 0.54901963]],\n",
      "\n",
      "       [[0.4862745 , 0.50980395, 0.5568628 ],\n",
      "        [0.49019608, 0.49803922, 0.54509807],\n",
      "        [0.49411765, 0.50980395, 0.5529412 ],\n",
      "        ...,\n",
      "        [0.45490196, 0.47843137, 0.53333336],\n",
      "        [0.43137255, 0.5058824 , 0.53333336],\n",
      "        [0.43529412, 0.4745098 , 0.50980395]]], dtype=float32), 25]\n"
     ]
    }
   ],
   "source": [
    "print(testeset[100])"
   ]
  },
  {
   "cell_type": "code",
   "execution_count": 63,
   "metadata": {},
   "outputs": [
    {
     "name": "stdout",
     "output_type": "stream",
     "text": [
      "[array([[[0.6039216 , 0.6862745 , 0.6509804 ],\n",
      "        [0.67058825, 0.6627451 , 0.6745098 ],\n",
      "        [0.64705884, 0.6666667 , 0.6784314 ],\n",
      "        ...,\n",
      "        [0.6117647 , 0.62352943, 0.54901963],\n",
      "        [0.627451  , 0.6117647 , 0.5686275 ],\n",
      "        [0.6117647 , 0.6156863 , 0.56078434]],\n",
      "\n",
      "       [[0.6431373 , 0.6745098 , 0.6313726 ],\n",
      "        [0.6627451 , 0.68235296, 0.654902  ],\n",
      "        [0.6313726 , 0.6627451 , 0.67058825],\n",
      "        ...,\n",
      "        [0.6       , 0.60784316, 0.5568628 ],\n",
      "        [0.59607846, 0.6117647 , 0.5529412 ],\n",
      "        [0.6039216 , 0.60784316, 0.5529412 ]],\n",
      "\n",
      "       [[0.6392157 , 0.6784314 , 0.6431373 ],\n",
      "        [0.6313726 , 0.6666667 , 0.6627451 ],\n",
      "        [0.6509804 , 0.6431373 , 0.64705884],\n",
      "        ...,\n",
      "        [0.6431373 , 0.6039216 , 0.5647059 ],\n",
      "        [0.61960787, 0.6117647 , 0.5294118 ],\n",
      "        [0.61960787, 0.6039216 , 0.5686275 ]],\n",
      "\n",
      "       ...,\n",
      "\n",
      "       [[0.5254902 , 0.5686275 , 0.5372549 ],\n",
      "        [0.56078434, 0.56078434, 0.5686275 ],\n",
      "        [0.5568628 , 0.5764706 , 0.5921569 ],\n",
      "        ...,\n",
      "        [0.50980395, 0.53333336, 0.5176471 ],\n",
      "        [0.5254902 , 0.5372549 , 0.49411765],\n",
      "        [0.47058824, 0.5254902 , 0.5294118 ]],\n",
      "\n",
      "       [[0.5294118 , 0.5764706 , 0.5294118 ],\n",
      "        [0.54901963, 0.5686275 , 0.5411765 ],\n",
      "        [0.5647059 , 0.5686275 , 0.54901963],\n",
      "        ...,\n",
      "        [0.44313726, 0.5254902 , 0.49803922],\n",
      "        [0.47843137, 0.53333336, 0.48235294],\n",
      "        [0.46666667, 0.5411765 , 0.53333336]],\n",
      "\n",
      "       [[0.54509807, 0.54901963, 0.5176471 ],\n",
      "        [0.52156866, 0.57254905, 0.5019608 ],\n",
      "        [0.5686275 , 0.5372549 , 0.5294118 ],\n",
      "        ...,\n",
      "        [0.49411765, 0.5137255 , 0.49019608],\n",
      "        [0.47058824, 0.5294118 , 0.50980395],\n",
      "        [0.46666667, 0.5254902 , 0.5137255 ]]], dtype=float32), 1]\n"
     ]
    }
   ],
   "source": [
    "print(dataset[6000])"
   ]
  },
  {
   "cell_type": "code",
   "execution_count": 64,
   "metadata": {},
   "outputs": [],
   "source": [
    "data, labels0 = zip(*dataset)\n",
    "teste, testlabels0 = zip(*testeset)"
   ]
  },
  {
   "cell_type": "code",
   "execution_count": 65,
   "metadata": {},
   "outputs": [],
   "source": [
    "labels1 = to_categorical(labels0)\n",
    "labels=np.array(labels1)"
   ]
  },
  {
   "cell_type": "code",
   "execution_count": 66,
   "metadata": {},
   "outputs": [
    {
     "name": "stdout",
     "output_type": "stream",
     "text": [
      "[0. 0. 0. 1. 0. 0. 0. 0. 0. 0. 0. 0. 0. 0. 0. 0. 0. 0. 0. 0. 0. 0. 0. 0.\n",
      " 0. 0. 0. 0.]\n"
     ]
    }
   ],
   "source": [
    "print(labels[17996])"
   ]
  },
  {
   "cell_type": "code",
   "execution_count": 67,
   "metadata": {},
   "outputs": [],
   "source": [
    "data=np.array(data)\n",
    "test = np.array(teste)"
   ]
  },
  {
   "cell_type": "code",
   "execution_count": 68,
   "metadata": {},
   "outputs": [
    {
     "name": "stdout",
     "output_type": "stream",
     "text": [
      "[[[0.6431373  0.6784314  0.6666667 ]\n",
      "  [0.61960787 0.6784314  0.6666667 ]\n",
      "  [0.6313726  0.6784314  0.6392157 ]\n",
      "  ...\n",
      "  [0.6        0.62352943 0.58431375]\n",
      "  [0.6        0.6        0.5529412 ]\n",
      "  [0.5921569  0.6039216  0.5764706 ]]\n",
      "\n",
      " [[0.6392157  0.6784314  0.64705884]\n",
      "  [0.6627451  0.67058825 0.6666667 ]\n",
      "  [0.627451   0.6627451  0.6509804 ]\n",
      "  ...\n",
      "  [0.60784316 0.6        0.54901963]\n",
      "  [0.5764706  0.6117647  0.54509807]\n",
      "  [0.57254905 0.61960787 0.5803922 ]]\n",
      "\n",
      " [[0.654902   0.6627451  0.6431373 ]\n",
      "  [0.6431373  0.6627451  0.64705884]\n",
      "  [0.627451   0.6627451  0.65882355]\n",
      "  ...\n",
      "  [0.6        0.6117647  0.5764706 ]\n",
      "  [0.6039216  0.59607846 0.54901963]\n",
      "  [0.58431375 0.6117647  0.5411765 ]]\n",
      "\n",
      " ...\n",
      "\n",
      " [[0.31764707 0.18039216 0.10196079]\n",
      "  [0.32156864 0.18039216 0.07843138]\n",
      "  [0.38039216 0.12941177 0.09019608]\n",
      "  ...\n",
      "  [0.5411765  0.5137255  0.49019608]\n",
      "  [0.4862745  0.5294118  0.5372549 ]\n",
      "  [0.4627451  0.5254902  0.5137255 ]]\n",
      "\n",
      " [[0.27058825 0.20784314 0.10588235]\n",
      "  [0.2627451  0.16862746 0.05882353]\n",
      "  [0.18039216 0.16470589 0.12941177]\n",
      "  ...\n",
      "  [0.4862745  0.52156866 0.50980395]\n",
      "  [0.44705883 0.54509807 0.52156866]\n",
      "  [0.42352942 0.5294118  0.5019608 ]]\n",
      "\n",
      " [[0.20784314 0.1764706  0.10196079]\n",
      "  [0.18039216 0.18039216 0.13333334]\n",
      "  [0.49019608 0.5294118  0.49803922]\n",
      "  ...\n",
      "  [0.48235294 0.52156866 0.5176471 ]\n",
      "  [0.45882353 0.5137255  0.5176471 ]\n",
      "  [0.46666667 0.5372549  0.49019608]]]\n"
     ]
    }
   ],
   "source": [
    "print(data[17996])"
   ]
  },
  {
   "cell_type": "code",
   "execution_count": 69,
   "metadata": {},
   "outputs": [],
   "source": [
    "trainx, testx, trainy, testy = train_test_split(data, labels, test_size=0.5, random_state=44)"
   ]
  },
  {
   "cell_type": "code",
   "execution_count": 70,
   "metadata": {},
   "outputs": [
    {
     "name": "stdout",
     "output_type": "stream",
     "text": [
      "[0. 0. 0. 0. 0. 0. 0. 0. 0. 0. 0. 0. 0. 0. 0. 0. 0. 0. 0. 0. 1. 0. 0. 0.\n",
      " 0. 0. 0. 0.]\n"
     ]
    }
   ],
   "source": [
    "print(testy[17996])\n",
    "# print(testx.shape)\n",
    "# print(trainy.shape)\n",
    "# print(testy.shape)\n",
    "# print(f'First elements of y_train: {trainy[:10].T}\\n')"
   ]
  },
  {
   "cell_type": "code",
   "execution_count": 71,
   "metadata": {},
   "outputs": [
    {
     "name": "stdout",
     "output_type": "stream",
     "text": [
      "[[[0.627451   0.67058825 0.69411767]\n",
      "  [0.6392157  0.6627451  0.654902  ]\n",
      "  [0.654902   0.654902   0.654902  ]\n",
      "  ...\n",
      "  [0.5529412  0.54901963 0.47843137]\n",
      "  [0.57254905 0.50980395 0.50980395]\n",
      "  [0.47843137 0.5176471  0.48235294]]\n",
      "\n",
      " [[0.64705884 0.6784314  0.6862745 ]\n",
      "  [0.6627451  0.6784314  0.6745098 ]\n",
      "  [0.6745098  0.6666667  0.67058825]\n",
      "  ...\n",
      "  [0.5372549  0.5411765  0.47843137]\n",
      "  [0.5058824  0.5411765  0.46666667]\n",
      "  [0.50980395 0.54901963 0.5058824 ]]\n",
      "\n",
      " [[0.6313726  0.6745098  0.68235296]\n",
      "  [0.6666667  0.67058825 0.6862745 ]\n",
      "  [0.6784314  0.68235296 0.6901961 ]\n",
      "  ...\n",
      "  [0.5568628  0.5411765  0.49411765]\n",
      "  [0.5568628  0.54901963 0.45882353]\n",
      "  [0.5647059  0.5254902  0.4862745 ]]\n",
      "\n",
      " ...\n",
      "\n",
      " [[0.5764706  0.53333336 0.5568628 ]\n",
      "  [0.52156866 0.57254905 0.54509807]\n",
      "  [0.5411765  0.54901963 0.5294118 ]\n",
      "  ...\n",
      "  [0.48235294 0.53333336 0.5058824 ]\n",
      "  [0.49019608 0.5137255  0.5058824 ]\n",
      "  [0.5137255  0.49803922 0.49411765]]\n",
      "\n",
      " [[0.5686275  0.54901963 0.5254902 ]\n",
      "  [0.49019608 0.54509807 0.54509807]\n",
      "  [0.5019608  0.5176471  0.5529412 ]\n",
      "  ...\n",
      "  [0.4862745  0.49411765 0.49019608]\n",
      "  [0.52156866 0.49803922 0.5058824 ]\n",
      "  [0.44313726 0.5058824  0.5019608 ]]\n",
      "\n",
      " [[0.54509807 0.5372549  0.54901963]\n",
      "  [0.49803922 0.5529412  0.5019608 ]\n",
      "  [0.49803922 0.5176471  0.49411765]\n",
      "  ...\n",
      "  [0.48235294 0.50980395 0.53333336]\n",
      "  [0.49411765 0.5137255  0.5294118 ]\n",
      "  [0.4745098  0.49411765 0.5176471 ]]]\n"
     ]
    }
   ],
   "source": [
    "print(trainx[0])"
   ]
  },
  {
   "cell_type": "code",
   "execution_count": 72,
   "metadata": {},
   "outputs": [],
   "source": [
    "num_classes = 10\n",
    "input_shape = (32, 32, 3)"
   ]
  },
  {
   "cell_type": "code",
   "execution_count": 73,
   "metadata": {},
   "outputs": [
    {
     "name": "stdout",
     "output_type": "stream",
     "text": [
      "Min-max values of X_train: (0.0, 1.0)\n",
      "\n"
     ]
    }
   ],
   "source": [
    "print(f'Min-max values of X_train: {np.min(trainx),np.max(trainx)}\\n')"
   ]
  },
  {
   "cell_type": "code",
   "execution_count": 77,
   "metadata": {},
   "outputs": [
    {
     "name": "stdout",
     "output_type": "stream",
     "text": [
      "Model: \"sequential_4\"\n",
      "_________________________________________________________________\n",
      " Layer (type)                Output Shape              Param #   \n",
      "=================================================================\n",
      " conv2d_6 (Conv2D)           (None, 32, 32, 16)        448       \n",
      "                                                                 \n",
      " max_pooling2d_6 (MaxPooling  (None, 16, 16, 16)       0         \n",
      " 2D)                                                             \n",
      "                                                                 \n",
      " dropout_7 (Dropout)         (None, 16, 16, 16)        0         \n",
      "                                                                 \n",
      " flatten_4 (Flatten)         (None, 4096)              0         \n",
      "                                                                 \n",
      " dense_5 (Dense)             (None, 28)                114716    \n",
      "                                                                 \n",
      "=================================================================\n",
      "Total params: 115,164\n",
      "Trainable params: 115,164\n",
      "Non-trainable params: 0\n",
      "_________________________________________________________________\n"
     ]
    }
   ],
   "source": [
    "model1 = tf.keras.Sequential([\n",
    "    tf.keras.Input(input_shape),\n",
    "    tf.keras.layers.Conv2D(filters=16, kernel_size=(3,3), strides=(1,1), padding='same', activation='relu'),\n",
    "    tf.keras.layers.MaxPool2D(pool_size=(2,2)),\n",
    "    tf.keras.layers.Dropout(0.50),\n",
    "    tf.keras.layers.Flatten(),\n",
    "    tf.keras.layers.Dense(28, activation='softmax')\n",
    "])\n",
    "model1.summary()"
   ]
  },
  {
   "cell_type": "code",
   "execution_count": 78,
   "metadata": {},
   "outputs": [],
   "source": [
    "batch_size = 64\n",
    "epochs = 10\n",
    "opt = tf.keras.optimizers.Adam(learning_rate=0.001,\n",
    "                            beta_1=0.9,\n",
    "                            beta_2=0.999,\n",
    "                            epsilon=1e-08,\n",
    "                            weight_decay=0.0)\n",
    "\n",
    "# compile model\n",
    "model1.compile(loss='categorical_crossentropy',\n",
    "               optimizer=opt,\n",
    "               metrics = ['accuracy'])\n",
    "\n"
   ]
  },
  {
   "cell_type": "code",
   "execution_count": 79,
   "metadata": {},
   "outputs": [
    {
     "name": "stdout",
     "output_type": "stream",
     "text": [
      "Epoch 1/10\n",
      "1295/1295 [==============================] - 13s 10ms/step - loss: 1.3213 - accuracy: 0.6252 - val_loss: 0.6736 - val_accuracy: 0.8286\n",
      "Epoch 2/10\n",
      "1295/1295 [==============================] - 13s 10ms/step - loss: 0.5843 - accuracy: 0.8309 - val_loss: 0.3449 - val_accuracy: 0.9176\n",
      "Epoch 3/10\n",
      "1295/1295 [==============================] - 12s 10ms/step - loss: 0.3694 - accuracy: 0.8938 - val_loss: 0.2167 - val_accuracy: 0.9538\n",
      "Epoch 4/10\n",
      "1295/1295 [==============================] - 13s 10ms/step - loss: 0.2613 - accuracy: 0.9249 - val_loss: 0.1384 - val_accuracy: 0.9722\n",
      "Epoch 5/10\n",
      "1295/1295 [==============================] - 13s 10ms/step - loss: 0.1986 - accuracy: 0.9424 - val_loss: 0.1067 - val_accuracy: 0.9797\n",
      "Epoch 6/10\n",
      "1295/1295 [==============================] - 13s 10ms/step - loss: 0.1564 - accuracy: 0.9547 - val_loss: 0.0777 - val_accuracy: 0.9869\n",
      "Epoch 7/10\n",
      "1295/1295 [==============================] - 13s 10ms/step - loss: 0.1308 - accuracy: 0.9615 - val_loss: 0.0544 - val_accuracy: 0.9904\n",
      "Epoch 8/10\n",
      "1295/1295 [==============================] - 13s 10ms/step - loss: 0.1124 - accuracy: 0.9664 - val_loss: 0.0459 - val_accuracy: 0.9922\n",
      "Epoch 9/10\n",
      "1295/1295 [==============================] - 13s 10ms/step - loss: 0.0967 - accuracy: 0.9715 - val_loss: 0.0390 - val_accuracy: 0.9939\n",
      "Epoch 10/10\n",
      "1295/1295 [==============================] - 13s 10ms/step - loss: 0.0903 - accuracy: 0.9726 - val_loss: 0.0369 - val_accuracy: 0.9931\n"
     ]
    }
   ],
   "source": [
    "# training\n",
    "history = model1.fit(\n",
    "    trainx,\n",
    "    trainy,\n",
    "    batch_size=batch_size,\n",
    "    epochs=epochs,\n",
    "    validation_data=(testx,testy)\n",
    ")\n"
   ]
  },
  {
   "cell_type": "code",
   "execution_count": 80,
   "metadata": {},
   "outputs": [
    {
     "data": {
      "image/png": "[encoded data removed]",
      "text/plain": [
       "<Figure size 1500x800 with 2 Axes>"
      ]
     },
     "metadata": {},
     "output_type": "display_data"
    }
   ],
   "source": [
    "# verify training performance\n",
    "loss = history.history['loss']\n",
    "val_loss = history.history['val_loss']\n",
    "acc = history.history['accuracy']\n",
    "val_acc = history.history['val_accuracy']\n",
    "\n",
    "epochs_range = range(epochs)\n",
    "\n",
    "plt.figure(figsize=(15, 8))\n",
    "plt.subplot(2, 1, 1)\n",
    "plt.grid(True)\n",
    "plt.plot(epochs_range, acc, label='Training Accuracy')\n",
    "plt.plot(epochs_range, val_acc, label='Validation Accuracy')\n",
    "plt.legend(loc='lower right')\n",
    "plt.title('Training and Validation Accuracy')\n",
    "\n",
    "plt.subplot(2, 1, 2)\n",
    "plt.grid(True)\n",
    "plt.plot(epochs_range, loss, label='Training Loss')\n",
    "plt.plot(epochs_range, val_loss, label='Validation Loss')\n",
    "plt.legend(loc='upper right')\n",
    "plt.title('Training and Validation Loss')\n",
    "plt.show()\n"
   ]
  },
  {
   "cell_type": "code",
   "execution_count": 81,
   "metadata": {},
   "outputs": [
    {
     "name": "stdout",
     "output_type": "stream",
     "text": [
      "Test loss: 0.036942120641469955\n",
      "Test accuracy: 0.9930585026741028\n"
     ]
    }
   ],
   "source": [
    "score = model1.evaluate(testx, testy, verbose=0)\n",
    "print(\"Test loss:\", score[0])\n",
    "print(\"Test accuracy:\", score[1])"
   ]
  },
  {
   "cell_type": "code",
   "execution_count": null,
   "metadata": {},
   "outputs": [],
   "source": []
  },
  {
   "cell_type": "code",
   "execution_count": 82,
   "metadata": {},
   "outputs": [
    {
     "name": "stdout",
     "output_type": "stream",
     "text": [
      "(82835, 32, 32, 3)\n"
     ]
    }
   ],
   "source": [
    "print(testx.shape)"
   ]
  },
  {
   "cell_type": "code",
   "execution_count": 93,
   "metadata": {},
   "outputs": [],
   "source": [
    "diretorio = dirTeste + \"/M/3001.jpg\"\n",
    "image=load_img(diretorio,target_size=(32,32))\n",
    "image=img_to_array(image) \n",
    "image=image/255.0\n",
    "prediction_image=np.array(image)\n",
    "prediction_image= np.expand_dims(image, axis=0)"
   ]
  },
  {
   "cell_type": "code",
   "execution_count": 94,
   "metadata": {},
   "outputs": [
    {
     "name": "stdout",
     "output_type": "stream",
     "text": [
      "1/1 [==============================] - 0s 12ms/step\n",
      "Prediction is L.\n"
     ]
    }
   ],
   "source": [
    "prediction=model1.predict(prediction_image)\n",
    "value=np.argmax(prediction)\n",
    "move_name=mapper(value)\n",
    "print(\"Prediction is {}.\".format(move_name))"
   ]
  }
 ],
 "metadata": {
  "kernelspec": {
   "display_name": "Python 3.11.3 64-bit",
   "language": "python",
   "name": "python3"
  },
  "language_info": {
   "codemirror_mode": {
    "name": "ipython",
    "version": 3
   },
   "file_extension": ".py",
   "mimetype": "text/x-python",
   "name": "python",
   "nbconvert_exporter": "python",
   "pygments_lexer": "ipython3",
   "version": "3.11.3"
  },
  "orig_nbformat": 4,
  "vscode": {
   "interpreter": {
    "hash": "433d0155a64c2f8038576ae0fc5b3224712d33a96ced943fed049c87cd6a2e2d"
   }
  }
 },
 "nbformat": 4,
 "nbformat_minor": 2
}

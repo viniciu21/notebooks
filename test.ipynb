{
 "cells": [
  {
   "cell_type": "code",
   "execution_count": 1,
   "metadata": {},
   "outputs": [],
   "source": [
    "import numpy as np\n",
    "import pandas as pd\n",
    "import os\n",
    "import matplotlib.pyplot as plt\n",
    "import tensorflow as tf\n",
    "\n",
    "from tensorflow.keras.utils import to_categorical\n",
    "from tensorflow.keras.preprocessing.image import load_img, img_to_array, ImageDataGenerator\n",
    "\n",
    "from sklearn.metrics import classification_report, log_loss, accuracy_score\n",
    "from sklearn.model_selection import train_test_split"
   ]
  },
  {
   "cell_type": "code",
   "execution_count": 2,
   "metadata": {},
   "outputs": [],
   "source": [
    "train_dir = \"../../../Documents/ASL_Dataset/Train\";\n",
    "test_dir = \"../../../Documents/ASL_Dataset/Test\";\n",
    "dirTesteReal = \"../../../Documents/ASL_Dataset/TesteReal\";"
   ]
  },
  {
   "cell_type": "code",
   "execution_count": 3,
   "metadata": {},
   "outputs": [
    {
     "name": "stdout",
     "output_type": "stream",
     "text": [
      "['A', 'B', 'C', 'D', 'E', 'F', 'G', 'H', 'I', 'J', 'K', 'L', 'M', 'N', 'Nothing', 'O', 'P', 'Q', 'R', 'S', 'Space', 'T', 'U', 'V', 'W', 'X', 'Y', 'Z']\n",
      "28\n"
     ]
    }
   ],
   "source": [
    "Name=[]\n",
    "for file in os.listdir(train_dir):\n",
    "    Name+=[file]\n",
    "print(Name)\n",
    "print(len(Name))"
   ]
  },
  {
   "cell_type": "code",
   "execution_count": 4,
   "metadata": {},
   "outputs": [],
   "source": [
    "N=[]\n",
    "for i in range(len(Name)):\n",
    "    N+=[i]\n",
    "    \n",
    "mapping=dict(zip(Name,N)) \n",
    "reverse_mapping=dict(zip(N,Name)) \n",
    "\n",
    "def mapper(value):\n",
    "    return reverse_mapping[value]"
   ]
  },
  {
   "cell_type": "code",
   "execution_count": 5,
   "metadata": {},
   "outputs": [],
   "source": [
    "dataset=[]\n",
    "count=0\n",
    "for file in os.listdir(train_dir):\n",
    "    path=os.path.join(train_dir,file)\n",
    "    for im in os.listdir(path):\n",
    "        image=load_img(os.path.join(path,im), grayscale=False, color_mode='rgb', target_size=(40,40))\n",
    "        image=img_to_array(image)\n",
    "        image=image/255.0\n",
    "        dataset+=[[image,count]]\n",
    "    count=count+1"
   ]
  },
  {
   "cell_type": "code",
   "execution_count": 6,
   "metadata": {},
   "outputs": [],
   "source": [
    "testset=[]\n",
    "count=0\n",
    "for file in os.listdir(test_dir):\n",
    "    path=os.path.join(test_dir,file)\n",
    "    for im in os.listdir(path):\n",
    "        image=load_img(os.path.join(path,im), grayscale=False, color_mode='rgb', target_size=(40,40))\n",
    "        image=img_to_array(image)\n",
    "        image=image/255.0\n",
    "        testset+=[[image,count]]\n",
    "    count=count+1"
   ]
  },
  {
   "cell_type": "code",
   "execution_count": 7,
   "metadata": {},
   "outputs": [],
   "source": [
    "data,labels0=zip(*dataset)\n",
    "test,testlabels0=zip(*testset)"
   ]
  },
  {
   "cell_type": "code",
   "execution_count": 8,
   "metadata": {},
   "outputs": [],
   "source": [
    "labels1=to_categorical(labels0)\n",
    "labels=np.array(labels1)"
   ]
  },
  {
   "cell_type": "code",
   "execution_count": 9,
   "metadata": {},
   "outputs": [],
   "source": [
    "data=np.array(data)\n",
    "test=np.array(test)"
   ]
  },
  {
   "cell_type": "code",
   "execution_count": 10,
   "metadata": {},
   "outputs": [],
   "source": [
    "trainx,testx,trainy,testy=train_test_split(data,labels,test_size=0.2,random_state=44)"
   ]
  },
  {
   "cell_type": "code",
   "execution_count": 11,
   "metadata": {},
   "outputs": [
    {
     "name": "stdout",
     "output_type": "stream",
     "text": [
      "(132536, 40, 40, 3)\n",
      "(33134, 40, 40, 3)\n",
      "(132536, 28)\n",
      "(33134, 28)\n"
     ]
    }
   ],
   "source": [
    "print(trainx.shape)\n",
    "print(testx.shape)\n",
    "print(trainy.shape)\n",
    "print(testy.shape)"
   ]
  },
  {
   "cell_type": "code",
   "execution_count": 12,
   "metadata": {},
   "outputs": [],
   "source": [
    "datagen = ImageDataGenerator(horizontal_flip=True,vertical_flip=True,rotation_range=20,zoom_range=0.2,\n",
    "                        width_shift_range=0.2,height_shift_range=0.2,shear_range=0.1,fill_mode=\"nearest\")"
   ]
  },
  {
   "cell_type": "code",
   "execution_count": 13,
   "metadata": {},
   "outputs": [],
   "source": [
    "# pretrained_model3 = tf.keras.applications.DenseNet201(input_shape=(40,40,3),include_top=False,weights='imagenet',pooling='avg')\n",
    "# pretrained_model3.trainable = False"
   ]
  },
  {
   "cell_type": "code",
   "execution_count": 14,
   "metadata": {},
   "outputs": [],
   "source": [
    "# inputs3 = pretrained_model3.input\n",
    "# x3 = tf.keras.layers.Dense(128, activation='relu')(pretrained_model3.output)\n",
    "# outputs3 = tf.keras.layers.Dense(28, activation='softmax')(x3)\n",
    "# model = tf.keras.Model(inputs=inputs3, outputs=outputs3)"
   ]
  },
  {
   "cell_type": "code",
   "execution_count": 15,
   "metadata": {},
   "outputs": [
    {
     "name": "stdout",
     "output_type": "stream",
     "text": [
      "Model: \"sequential\"\n",
      "_________________________________________________________________\n",
      " Layer (type)                Output Shape              Param #   \n",
      "=================================================================\n",
      " conv2d (Conv2D)             (None, 40, 40, 16)        448       \n",
      "                                                                 \n",
      " max_pooling2d (MaxPooling2D  (None, 20, 20, 16)       0         \n",
      " )                                                               \n",
      "                                                                 \n",
      " dropout (Dropout)           (None, 20, 20, 16)        0         \n",
      "                                                                 \n",
      " flatten (Flatten)           (None, 6400)              0         \n",
      "                                                                 \n",
      " dense (Dense)               (None, 28)                179228    \n",
      "                                                                 \n",
      "=================================================================\n",
      "Total params: 179,676\n",
      "Trainable params: 179,676\n",
      "Non-trainable params: 0\n",
      "_________________________________________________________________\n"
     ]
    }
   ],
   "source": [
    "model = tf.keras.Sequential([\n",
    "    tf.keras.Input((40,40,3)),\n",
    "    tf.keras.layers.Conv2D(filters=16, kernel_size=(3,3), strides=(1,1), padding='same', activation='relu'),\n",
    "    tf.keras.layers.MaxPool2D(pool_size=(2,2)),\n",
    "    tf.keras.layers.Dropout(0.50),\n",
    "    tf.keras.layers.Flatten(),\n",
    "    tf.keras.layers.Dense(28, activation='softmax')\n",
    "])\n",
    "model.summary()"
   ]
  },
  {
   "cell_type": "code",
   "execution_count": 16,
   "metadata": {},
   "outputs": [],
   "source": [
    "model.compile(optimizer='adam',loss='categorical_crossentropy',metrics=['accuracy'])"
   ]
  },
  {
   "cell_type": "code",
   "execution_count": 17,
   "metadata": {},
   "outputs": [
    {
     "name": "stdout",
     "output_type": "stream",
     "text": [
      "Epoch 1/5\n",
      "1036/1036 [==============================] - 53s 50ms/step - loss: 2.2867 - accuracy: 0.3008 - val_loss: 1.4403 - val_accuracy: 0.6247\n",
      "Epoch 2/5\n",
      "1036/1036 [==============================] - 52s 50ms/step - loss: 1.6400 - accuracy: 0.4738 - val_loss: 1.0153 - val_accuracy: 0.7398\n",
      "Epoch 3/5\n",
      "1036/1036 [==============================] - 52s 50ms/step - loss: 1.3674 - accuracy: 0.5478 - val_loss: 0.7681 - val_accuracy: 0.8345\n",
      "Epoch 4/5\n",
      "1036/1036 [==============================] - 52s 50ms/step - loss: 1.2203 - accuracy: 0.5861 - val_loss: 0.7189 - val_accuracy: 0.7909\n",
      "Epoch 5/5\n",
      "1036/1036 [==============================] - 52s 50ms/step - loss: 1.1236 - accuracy: 0.6148 - val_loss: 0.6515 - val_accuracy: 0.7914\n"
     ]
    }
   ],
   "source": [
    "his=model.fit(datagen.flow(trainx,trainy,batch_size=128),validation_data=(testx,testy),epochs=5)"
   ]
  },
  {
   "cell_type": "code",
   "execution_count": 18,
   "metadata": {},
   "outputs": [
    {
     "name": "stdout",
     "output_type": "stream",
     "text": [
      "1036/1036 [==============================] - 2s 2ms/step\n",
      "              precision    recall  f1-score   support\n",
      "\n",
      "           0       0.86      0.81      0.84      1222\n",
      "           1       0.90      0.99      0.94      1201\n",
      "           2       0.76      0.77      0.76      1189\n",
      "           3       1.00      0.96      0.98      1200\n",
      "           4       0.99      0.56      0.71      1220\n",
      "           5       0.79      0.99      0.88      1199\n",
      "           6       1.00      0.64      0.78      1169\n",
      "           7       0.73      0.98      0.84      1167\n",
      "           8       0.58      0.58      0.58      1183\n",
      "           9       0.99      0.70      0.82      1216\n",
      "          10       0.67      0.87      0.76      1211\n",
      "          11       0.93      0.83      0.88      1155\n",
      "          12       0.73      0.90      0.81      1211\n",
      "          13       0.97      0.51      0.67      1257\n",
      "          14       1.00      1.00      1.00      1195\n",
      "          15       0.73      0.97      0.83      1156\n",
      "          16       0.99      0.92      0.95      1220\n",
      "          17       0.90      1.00      0.95      1165\n",
      "          18       0.57      0.36      0.44      1244\n",
      "          19       0.90      0.45      0.60      1224\n",
      "          20       1.00      0.94      0.97      1176\n",
      "          21       0.57      0.82      0.67      1109\n",
      "          22       0.87      0.46      0.60       894\n",
      "          23       0.27      0.34      0.30      1175\n",
      "          24       0.57      0.99      0.72      1216\n",
      "          25       0.83      0.91      0.87      1230\n",
      "          26       0.91      0.87      0.89      1131\n",
      "          27       0.98      1.00      0.99      1199\n",
      "\n",
      "    accuracy                           0.79     33134\n",
      "   macro avg       0.82      0.79      0.79     33134\n",
      "weighted avg       0.82      0.79      0.79     33134\n",
      "\n"
     ]
    }
   ],
   "source": [
    "y_pred=model.predict(testx)\n",
    "pred=np.argmax(y_pred,axis=1)\n",
    "ground = np.argmax(testy,axis=1)\n",
    "print(classification_report(ground,pred))"
   ]
  },
  {
   "cell_type": "code",
   "execution_count": 19,
   "metadata": {},
   "outputs": [
    {
     "data": {
      "image/png": "[encoded data removed]",
      "text/plain": [
       "<Figure size 640x480 with 1 Axes>"
      ]
     },
     "metadata": {},
     "output_type": "display_data"
    },
    {
     "data": {
      "text/plain": [
       "<Figure size 640x480 with 0 Axes>"
      ]
     },
     "metadata": {},
     "output_type": "display_data"
    }
   ],
   "source": [
    "get_acc = his.history['accuracy']\n",
    "value_acc = his.history['val_accuracy']\n",
    "get_loss = his.history['loss']\n",
    "validation_loss = his.history['val_loss']\n",
    "\n",
    "epochs = range(len(get_acc))\n",
    "plt.plot(epochs, get_acc, 'r', label='Accuracy of Training data')\n",
    "plt.plot(epochs, value_acc, 'b', label='Accuracy of Validation data')\n",
    "plt.title('Training vs validation accuracy')\n",
    "plt.legend(loc=0)\n",
    "plt.figure()\n",
    "plt.show()"
   ]
  },
  {
   "cell_type": "code",
   "execution_count": 20,
   "metadata": {},
   "outputs": [
    {
     "data": {
      "image/png": "[encoded data removed]",
      "text/plain": [
       "<Figure size 640x480 with 1 Axes>"
      ]
     },
     "metadata": {},
     "output_type": "display_data"
    },
    {
     "data": {
      "text/plain": [
       "<Figure size 640x480 with 0 Axes>"
      ]
     },
     "metadata": {},
     "output_type": "display_data"
    }
   ],
   "source": [
    "epochs = range(len(get_loss))\n",
    "plt.plot(epochs, get_loss, 'r', label='Loss of Training data')\n",
    "plt.plot(epochs, validation_loss, 'b', label='Loss of Validation data')\n",
    "plt.title('Training vs validation loss')\n",
    "plt.legend(loc=0)\n",
    "plt.figure()\n",
    "plt.show()"
   ]
  },
  {
   "cell_type": "code",
   "execution_count": 21,
   "metadata": {},
   "outputs": [],
   "source": [
    "diretorio = test_dir + \"/M/3001.jpg\"\n",
    "\n",
    "image=load_img(diretorio,target_size=(40,40))\n",
    "\n",
    "image=img_to_array(image) \n",
    "image=image/255.0\n",
    "prediction_image=np.array(image)\n",
    "prediction_image= np.expand_dims(image, axis=0)"
   ]
  },
  {
   "cell_type": "code",
   "execution_count": 22,
   "metadata": {},
   "outputs": [
    {
     "name": "stdout",
     "output_type": "stream",
     "text": [
      "1/1 [==============================] - 0s 11ms/step\n",
      "Prediction is M.\n"
     ]
    }
   ],
   "source": [
    "prediction=model.predict(prediction_image)\n",
    "value=np.argmax(prediction)\n",
    "move_name=mapper(value)\n",
    "print(\"Prediction is {}.\".format(move_name))"
   ]
  },
  {
   "cell_type": "code",
   "execution_count": 23,
   "metadata": {},
   "outputs": [
    {
     "name": "stdout",
     "output_type": "stream",
     "text": [
      "(112, 40, 40, 3)\n",
      "4/4 [==============================] - 0s 2ms/step\n",
      "(112, 28)\n"
     ]
    }
   ],
   "source": [
    "print(test.shape)\n",
    "pred2=model.predict(test)\n",
    "print(pred2.shape)\n",
    "\n",
    "PRED=[]\n",
    "for item in pred2:\n",
    "    value2=np.argmax(item)      \n",
    "    PRED+=[value2]"
   ]
  },
  {
   "cell_type": "code",
   "execution_count": 24,
   "metadata": {},
   "outputs": [],
   "source": [
    "ANS=testlabels0"
   ]
  },
  {
   "cell_type": "code",
   "execution_count": 25,
   "metadata": {},
   "outputs": [
    {
     "name": "stdout",
     "output_type": "stream",
     "text": [
      "0.7053571428571429\n"
     ]
    }
   ],
   "source": [
    "accuracy=accuracy_score(ANS,PRED)\n",
    "print(accuracy)"
   ]
  }
 ],
 "metadata": {
  "kernelspec": {
   "display_name": "Python 3",
   "language": "python",
   "name": "python3"
  },
  "language_info": {
   "codemirror_mode": {
    "name": "ipython",
    "version": 3
   },
   "file_extension": ".py",
   "mimetype": "text/x-python",
   "name": "python",
   "nbconvert_exporter": "python",
   "pygments_lexer": "ipython3",
   "version": "3.11.3"
  },
  "orig_nbformat": 4
 },
 "nbformat": 4,
 "nbformat_minor": 2
}
